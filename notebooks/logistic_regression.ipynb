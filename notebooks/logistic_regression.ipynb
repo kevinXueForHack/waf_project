{
 "cells": [
  {
   "cell_type": "markdown",
   "metadata": {},
   "source": []
  },
  {
   "cell_type": "code",
   "execution_count": 14,
   "metadata": {},
   "outputs": [],
   "source": [
    "import pandas as pd\n",
    "import statsmodels.api as sm\n",
    "from sklearn.metrics import classification_report, confusion_matrix\n"
   ]
  },
  {
   "cell_type": "code",
   "execution_count": 15,
   "metadata": {},
   "outputs": [
    {
     "name": "stderr",
     "output_type": "stream",
     "text": [
      "<>:1: SyntaxWarning: invalid escape sequence '\\p'\n",
      "<>:1: SyntaxWarning: invalid escape sequence '\\p'\n",
      "C:\\Users\\kevin\\AppData\\Local\\Temp\\ipykernel_31388\\3137149222.py:1: SyntaxWarning: invalid escape sequence '\\p'\n",
      "  df = pd.read_csv(\"data\\processed_loan_data.csv\", low_memory = True)\n"
     ]
    }
   ],
   "source": [
    "df = pd.read_csv(\"data\\processed_loan_data.csv\", low_memory = True)\n"
   ]
  },
  {
   "cell_type": "code",
   "execution_count": null,
   "metadata": {},
   "outputs": [],
   "source": [
    "features = ['LOAN_AMOUNT', 'PERCENTAGE_EXPOSURE', \n",
    "            'IS_NEW', 'IS_LOW_DOC', 'UNRATE',  'EMPLOYEE_COUNT',  'GDP',  ]\n",
    "X_ext = df[features].copy()\n",
    "X_ext['IS_NEW'] = X_ext['IS_NEW'].astype(int)\n",
    "X_ext['IS_LOW_DOC'] = X_ext['IS_LOW_DOC'].astype(int)\n",
    "X_ext = sm.add_constant(X_ext)  # Adds the intercept"
   ]
  },
  {
   "cell_type": "code",
   "execution_count": null,
   "metadata": {},
   "outputs": [
    {
     "name": "stdout",
     "output_type": "stream",
     "text": [
      "Optimization terminated successfully.\n",
      "         Current function value: 0.539787\n",
      "         Iterations 7\n",
      "                           Logit Regression Results                           \n",
      "==============================================================================\n",
      "Dep. Variable:            LOAN_STATUS   No. Observations:               319455\n",
      "Model:                          Logit   Df Residuals:                   319447\n",
      "Method:                           MLE   Df Model:                            7\n",
      "Date:                Tue, 04 Feb 2025   Pseudo R-squ.:                 0.08529\n",
      "Time:                        22:48:59   Log-Likelihood:            -1.7244e+05\n",
      "converged:                       True   LL-Null:                   -1.8852e+05\n",
      "Covariance Type:            nonrobust   LLR p-value:                     0.000\n",
      "=======================================================================================\n",
      "                          coef    std err          z      P>|z|      [0.025      0.975]\n",
      "---------------------------------------------------------------------------------------\n",
      "const                   3.8362      0.044     87.898      0.000       3.751       3.922\n",
      "LOAN_AMOUNT          1.229e-06   2.97e-08     41.390      0.000    1.17e-06    1.29e-06\n",
      "PERCENTAGE_EXPOSURE     0.1678      0.016     10.681      0.000       0.137       0.199\n",
      "IS_NEW                 -0.2631      0.010    -27.656      0.000      -0.282      -0.244\n",
      "IS_LOW_DOC             -0.0040      0.089     -0.045      0.964      -0.178       0.170\n",
      "UNRATE                  0.3800      0.003    114.547      0.000       0.373       0.386\n",
      "EMPLOYEE_COUNT          0.0098      0.000     21.914      0.000       0.009       0.011\n",
      "GDP                    -0.0004   3.25e-06   -115.521      0.000      -0.000      -0.000\n",
      "=======================================================================================\n"
     ]
    }
   ],
   "source": [
    "y = df['LOAN_STATUS']\n",
    "logit_model_ext = sm.Logit(y, X_ext)\n",
    "result_ext = logit_model_ext.fit()\n",
    "print(result_ext.summary())"
   ]
  },
  {
   "cell_type": "code",
   "execution_count": 11,
   "metadata": {},
   "outputs": [
    {
     "name": "stdout",
     "output_type": "stream",
     "text": [
      "Optimization terminated successfully.\n",
      "         Current function value: 0.564695\n",
      "         Iterations 7\n",
      "                           Logit Regression Results                           \n",
      "==============================================================================\n",
      "Dep. Variable:            LOAN_STATUS   No. Observations:               319455\n",
      "Model:                          Logit   Df Residuals:                   319449\n",
      "Method:                           MLE   Df Model:                            5\n",
      "Date:                Tue, 04 Feb 2025   Pseudo R-squ.:                 0.04309\n",
      "Time:                        22:46:06   Log-Likelihood:            -1.8039e+05\n",
      "converged:                       True   LL-Null:                   -1.8852e+05\n",
      "Covariance Type:            nonrobust   LLR p-value:                     0.000\n",
      "=======================================================================================\n",
      "                          coef    std err          z      P>|z|      [0.025      0.975]\n",
      "---------------------------------------------------------------------------------------\n",
      "const                  -0.5489      0.021    -25.673      0.000      -0.591      -0.507\n",
      "LOAN_AMOUNT          1.948e-06   3.15e-08     61.792      0.000    1.89e-06    2.01e-06\n",
      "PERCENTAGE_EXPOSURE    -0.0700      0.016     -4.291      0.000      -0.102      -0.038\n",
      "IS_NEW                 -0.0717      0.009     -7.832      0.000      -0.090      -0.054\n",
      "IS_LOW_DOC              0.8705      0.088      9.914      0.000       0.698       1.043\n",
      "UNRATE                  0.2499      0.003     79.013      0.000       0.244       0.256\n",
      "=======================================================================================\n"
     ]
    }
   ],
   "source": [
    "X = sm.add_constant(X)\n",
    "\n",
    "logit_model = sm.Logit(y, X)\n",
    "result = logit_model.fit()\n",
    "\n"
   ]
  },
  {
   "cell_type": "code",
   "execution_count": 13,
   "metadata": {},
   "outputs": [
    {
     "name": "stdout",
     "output_type": "stream",
     "text": [
      "                           Logit Regression Results                           \n",
      "==============================================================================\n",
      "Dep. Variable:            LOAN_STATUS   No. Observations:               319455\n",
      "Model:                          Logit   Df Residuals:                   319449\n",
      "Method:                           MLE   Df Model:                            5\n",
      "Date:                Tue, 04 Feb 2025   Pseudo R-squ.:                 0.04309\n",
      "Time:                        22:46:18   Log-Likelihood:            -1.8039e+05\n",
      "converged:                       True   LL-Null:                   -1.8852e+05\n",
      "Covariance Type:            nonrobust   LLR p-value:                     0.000\n",
      "=======================================================================================\n",
      "                          coef    std err          z      P>|z|      [0.025      0.975]\n",
      "---------------------------------------------------------------------------------------\n",
      "const                  -0.5489      0.021    -25.673      0.000      -0.591      -0.507\n",
      "LOAN_AMOUNT          1.948e-06   3.15e-08     61.792      0.000    1.89e-06    2.01e-06\n",
      "PERCENTAGE_EXPOSURE    -0.0700      0.016     -4.291      0.000      -0.102      -0.038\n",
      "IS_NEW                 -0.0717      0.009     -7.832      0.000      -0.090      -0.054\n",
      "IS_LOW_DOC              0.8705      0.088      9.914      0.000       0.698       1.043\n",
      "UNRATE                  0.2499      0.003     79.013      0.000       0.244       0.256\n",
      "=======================================================================================\n"
     ]
    }
   ],
   "source": [
    "print(result.summary())"
   ]
  }
 ],
 "metadata": {
  "kernelspec": {
   "display_name": "Python 3 (ipykernel)",
   "language": "python",
   "name": "python3"
  },
  "language_info": {
   "codemirror_mode": {
    "name": "ipython",
    "version": 3
   },
   "file_extension": ".py",
   "mimetype": "text/x-python",
   "name": "python",
   "nbconvert_exporter": "python",
   "pygments_lexer": "ipython3",
   "version": "3.12.1"
  }
 },
 "nbformat": 4,
 "nbformat_minor": 2
}
